{
 "cells": [
  {
   "cell_type": "code",
   "execution_count": null,
   "id": "cafb981e-723b-45d8-baa6-1cd7c6e21fa0",
   "metadata": {},
   "outputs": [],
   "source": []
  }
 ],
 "metadata": {
  "kernelspec": {
   "display_name": "",
   "name": ""
  },
  "language_info": {
   "name": ""
  }
 },
 "nbformat": 4,
 "nbformat_minor": 5
}
